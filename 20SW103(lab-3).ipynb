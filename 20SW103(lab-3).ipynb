{
  "nbformat": 4,
  "nbformat_minor": 0,
  "metadata": {
    "colab": {
      "provenance": []
    },
    "kernelspec": {
      "name": "python3",
      "display_name": "Python 3"
    },
    "language_info": {
      "name": "python"
    }
  },
  "cells": [
    {
      "cell_type": "code",
      "execution_count": 7,
      "metadata": {
        "colab": {
          "base_uri": "https://localhost:8080/"
        },
        "id": "Ou3dKaHpsVoC",
        "outputId": "f5e21b0f-886c-4e11-834c-fef12fecc934"
      },
      "outputs": [
        {
          "output_type": "stream",
          "name": "stdout",
          "text": [
            "weeks: 4.285714285714286 and days: 2\n",
            "None\n"
          ]
        }
      ],
      "source": [
        "#  Task 01\n",
        "\n",
        "def population_density(population,land_area):\n",
        "  density= population/land_area\n",
        "  return density\n",
        "\n",
        "test1 = population_density(10, 1)\n",
        "expected_result1 = 10\n",
        "\n",
        "print(\"expected result: {}, actual result: {}\".format(expected_result1, test1))\n",
        "test2 = population_density(864816, 121.4)\n",
        "\n",
        "expected_result2 = 7123.6902801\n",
        "print(\"expected result: {}, actual result: {}\".format(expected_result2, test2))\n",
        "\n",
        "\n",
        "\n"
      ]
    },
    {
      "cell_type": "code",
      "source": [
        "# task 02\n",
        "def readable_timedelta(x):\n",
        "    week=x/7\n",
        "    remaining= x % 7\n",
        "    print(\"weeks: {} and days: {}\".format(week,remaining))\n",
        "\n",
        "print(readable_timedelta(30))"
      ],
      "metadata": {
        "colab": {
          "base_uri": "https://localhost:8080/"
        },
        "id": "D8y_SrgJwfXi",
        "outputId": "038f0ddd-fa2b-4f5d-8272-02c781d9a27d"
      },
      "execution_count": 8,
      "outputs": [
        {
          "output_type": "stream",
          "name": "stdout",
          "text": [
            "weeks: 4.285714285714286 and days: 2\n",
            "None\n"
          ]
        }
      ]
    },
    {
      "cell_type": "code",
      "source": [
        "# task 03\n",
        "numbers = [\n",
        " [34, 63, 88, 71, 29],\n",
        " [90, 78, 51, 27, 45],\n",
        " [63, 37, 85, 46, 22],\n",
        " [51, 22, 34, 11, 18]\n",
        " ]\n",
        "\n",
        "averages =list(map(lambda num_list: sum(num_list) / len(num_list),numbers))\n",
        "print(averages)"
      ],
      "metadata": {
        "colab": {
          "base_uri": "https://localhost:8080/"
        },
        "id": "LkE-tnSqyYCd",
        "outputId": "f7d23cf8-4a81-43b6-a193-659cda7e5f6b"
      },
      "execution_count": 9,
      "outputs": [
        {
          "output_type": "stream",
          "name": "stdout",
          "text": [
            "[57.0, 58.2, 50.6, 27.2]\n"
          ]
        }
      ]
    },
    {
      "cell_type": "code",
      "source": [
        "# task 04\n",
        "cities = [\"New York City\", \"Los Angeles\", \"Chicago\", \"Mountain View\", \"Denver\", \"Boston\"]\n",
        "\n",
        "short_cities = list(filter(lambda is_short: len(is_short) < 10 , cities))\n",
        "print(short_cities)"
      ],
      "metadata": {
        "colab": {
          "base_uri": "https://localhost:8080/"
        },
        "id": "UiRsrfpw0g8A",
        "outputId": "5334f0fc-5b99-402f-f5f8-7923c055bf5e"
      },
      "execution_count": 10,
      "outputs": [
        {
          "output_type": "stream",
          "name": "stdout",
          "text": [
            "['Chicago', 'Denver', 'Boston']\n"
          ]
        }
      ]
    },
    {
      "cell_type": "code",
      "source": [
        "# task 05\n",
        "def generate_message(name, missing_assignments, grade):\n",
        "    potential_grade = grade + 2 * missing_assignments\n",
        "    message = f\"Hi {name},\\n\"\\\n",
        "              f\"This is a reminder that you have {missing_assignments} assignments left to submit before you can graduate.\\n\"\\\n",
        "              f\"Your current grade is {grade} and can increase to {potential_grade} if you submit all assignments before the due date.\\n\"\n",
        "    return message\n",
        "\n",
        "\n",
        "names = input(\"Enter a list of names (separated by spaces): \").split()\n",
        "missing_assignments = list(map(int, input(\"Enter a list of missing assignment counts (separated by spaces): \").split()))\n",
        "grades = list(map(float, input(\"Enter a list of grades (separated by spaces): \").split()))\n",
        "\n",
        "\n",
        "if len(names) != len(missing_assignments) or len(names) != len(grades):\n",
        "    print(\"Error: The number of names, missing assignment counts, and grades must be the same.\")\n",
        "else:\n",
        "\n",
        "    for i in range(len(names)):\n",
        "        message = generate_message(names[i], missing_assignments[i], grades[i])\n",
        "        print(message)\n"
      ],
      "metadata": {
        "id": "JVdULV6B4nQ-"
      },
      "execution_count": null,
      "outputs": []
    },
    {
      "cell_type": "markdown",
      "source": [
        "# New Section"
      ],
      "metadata": {
        "id": "yfc2URCq6YgB"
      }
    },
    {
      "cell_type": "code",
      "source": [
        "# task 06\n",
        "with open(\"/content/camelot.txt\") as song:\n",
        " print(song.read(2))\n",
        " print(song.read(8))\n",
        " print(song.read())\n",
        "# ///\n",
        "camelot_lines = []\n",
        "with open(\"/content/camelot.txt\") as f:\n",
        " for line in f:\n",
        "    camelot_lines.append(line.strip())\n",
        "print(camelot_lines)"
      ],
      "metadata": {
        "colab": {
          "base_uri": "https://localhost:8080/"
        },
        "id": "37xQrR2r6qYs",
        "outputId": "5a0d76bf-b871-4c6e-cae9-f9e8c5528fe4"
      },
      "execution_count": 13,
      "outputs": [
        {
          "output_type": "stream",
          "name": "stdout",
          "text": [
            "We\n",
            "'re the \n",
            "knights of the round table We dance whenever we're able\n",
            "[\"We're the knights of the round table We dance whenever we're able\"]\n"
          ]
        }
      ]
    },
    {
      "cell_type": "code",
      "source": [
        "# task 07\n",
        "def create_cast_list(filename):\n",
        "    cast_list = []\n",
        "    with open(filename, 'r') as file:\n",
        "        for line in file:\n",
        "            actor_name = line.split(',')[0].strip()\n",
        "            cast_list.append(actor_name)\n",
        "    return cast_list\n",
        "\n",
        "# Test the function\n",
        "filename = \"/content/flying_circus_cast.txt\"\n",
        "actors = create_cast_list(filename)\n",
        "print(actors)\n"
      ],
      "metadata": {
        "colab": {
          "base_uri": "https://localhost:8080/"
        },
        "id": "2x49G0Nl8fae",
        "outputId": "a687015e-707d-4cef-b450-c69aa3abff8b"
      },
      "execution_count": 14,
      "outputs": [
        {
          "output_type": "stream",
          "name": "stdout",
          "text": [
            "['Graham Chapman', 'Eric Idle', 'Terry Jones', 'Michael Palin', 'Terry Gilliam', 'John Cleese', 'Carol Cleveland', 'Ian Davidson', 'John Hughman', 'The Fred Tomlinson Singers', 'Connie Booth', 'Bob Raymond', 'Lyn Ashley', 'Rita Davies', 'Stanley Mason', 'David Ballantyne', 'Donna Reading', 'Peter Brett', 'Maureen Flanagan', 'Katya Wyeth', 'Frank Lester', 'Neil Innes', 'Dick Vosburgh', 'Sandra Richards', 'Julia Breck', 'Nicki Howorth', 'Jimmy Hill', 'Barry Cryer', 'Jeannette Wild', 'Marjorie Wilde', 'Marie Anderson', 'Caron Gardner', 'Nosher Powell', 'Carolae Donoghue', 'Vincent Wong', 'Helena Clayton', 'Nigel Jones', 'Roy Gunson', 'Daphne Davey', 'Stenson Falke', 'Alexander Curry', 'Frank Williams', 'Ralph Wood', 'Rosalind Bailey', 'Marion Mould', 'Sheila Sands', 'Richard Baker', 'Douglas Adams', 'Ewa Aulin', 'Reginald Bosanquet', 'Barbara Lindley', 'Roy Brent', 'Jonas Card', 'Tony Christopher', 'Beulah Hughes', 'Peter Kodak', 'Lulu', 'Jay Neill', 'Graham Skidmore', 'Ringo Starr', 'Fred Tomlinson', 'David Hamilton', 'Suzy Mandel', 'Peter Woods']\n"
          ]
        }
      ]
    },
    {
      "cell_type": "markdown",
      "source": [
        "# New Section"
      ],
      "metadata": {
        "id": "gDzHQXpt-wj-"
      }
    },
    {
      "cell_type": "code",
      "source": [
        "from google.colab import drive\n",
        "drive.mount('/content/drive')"
      ],
      "metadata": {
        "id": "3AqHuxQi-6Ft"
      },
      "execution_count": null,
      "outputs": []
    }
  ]
}